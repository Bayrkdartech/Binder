{
  "cells": [
    {
      "cell_type": "markdown",
      "metadata": {
        "id": "view-in-github",
        "colab_type": "text"
      },
      "source": [
        "<a href=\"https://colab.research.google.com/github/Bayrkdartech/Binder/blob/main/PMJE_MW.ipynb\" target=\"_parent\"><img src=\"https://colab.research.google.com/assets/colab-badge.svg\" alt=\"Open In Colab\"/></a>"
      ]
    },
    {
      "cell_type": "code",
      "execution_count": 4,
      "metadata": {
        "id": "HbJ4h6QPx5Zb",
        "colab": {
          "base_uri": "https://localhost:8080/"
        },
        "outputId": "d6eab50b-028a-413c-a424-4e276da84023"
      },
      "outputs": [
        {
          "output_type": "stream",
          "name": "stdout",
          "text": [
            "Drive already mounted at /content/drive; to attempt to forcibly remount, call drive.mount(\"/content/drive\", force_remount=True).\n",
            "📂 الملف موجود مسبقًا ولن يتم إعادة التحميل.\n",
            "✅ الملفات مفكوكة مسبقًا.\n",
            "أول 5 صفوف من البيانات:\n",
            "              Datetime   AEP_MW\n",
            "0  2004-12-31 01:00:00  13478.0\n",
            "1  2004-12-31 02:00:00  12865.0\n",
            "2  2004-12-31 03:00:00  12577.0\n",
            "3  2004-12-31 04:00:00  12517.0\n",
            "4  2004-12-31 05:00:00  12670.0\n"
          ]
        }
      ],
      "source": [
        "# استيراد المكتبات الأساسية\n",
        "import pandas as pd\n",
        "import numpy as np\n",
        "import matplotlib.pyplot as plt\n",
        "import seaborn as sns\n",
        "from scipy.stats import ttest_ind\n",
        "import os\n",
        "from google.colab import drive\n",
        "\n",
        "# 1. توصيل Google Drive\n",
        "drive.mount('/content/drive')\n",
        "\n",
        "# 2. إعداد مجلد kaggle\n",
        "os.makedirs(\"/root/.kaggle\", exist_ok=True)\n",
        "\n",
        "# 3. نسخ ملف kaggle.json من Google Drive إلى مجلد kaggle\n",
        "# غيّر المسار إذا ملف kaggle.json موجود بمكان آخر\n",
        "!cp /content/drive/MyDrive/kaggle.json /root/.kaggle/\n",
        "\n",
        "# 4. ضبط الأذونات\n",
        "!chmod 600 /root/.kaggle/kaggle.json\n",
        "\n",
        "# 5. إنشاء مجلد data إذا غير موجود\n",
        "os.makedirs(\"data\", exist_ok=True)\n",
        "\n",
        "# 6. تحميل البيانات من Kaggle إذا غير موجودة\n",
        "if not os.path.exists(\"data/hourly-energy-consumption.zip\"):\n",
        "    !kaggle datasets download -d robikscube/hourly-energy-consumption -p data -q\n",
        "else:\n",
        "    print(\"📂 الملف موجود مسبقًا ولن يتم إعادة التحميل.\")\n",
        "\n",
        "# 7. فك الضغط (بدون رسائل)\n",
        "if not os.path.exists(\"data/AEP_hourly.csv\"):  # نتأكد إذا تفك الضغط سابقًا\n",
        "    !unzip -q data/hourly-energy-consumption.zip -d data\n",
        "else:\n",
        "    print(\"✅ الملفات مفكوكة مسبقًا.\")\n",
        "\n",
        "# 8. قراءة ملف CSV مثال\n",
        "df = pd.read_csv(\"data/AEP_hourly.csv\")\n",
        "print(\"أول 5 صفوف من البيانات:\")\n",
        "print(df.head())\n",
        "\n",
        "\n",
        "# FIRST STEP ###\n"
      ]
    }
  ],
  "metadata": {
    "colab": {
      "provenance": [],
      "authorship_tag": "ABX9TyO5p/KFJ/WolgVnIUqA+jAR",
      "include_colab_link": true
    },
    "kernelspec": {
      "display_name": "Python 3",
      "name": "python3"
    },
    "language_info": {
      "name": "python"
    }
  },
  "nbformat": 4,
  "nbformat_minor": 0
}