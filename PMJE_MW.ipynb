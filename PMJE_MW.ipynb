{
  "cells": [
    {
      "cell_type": "markdown",
      "metadata": {
        "id": "view-in-github",
        "colab_type": "text"
      },
      "source": [
        "<a href=\"https://colab.research.google.com/github/Bayrkdartech/Binder/blob/main/PMJE_MW.ipynb\" target=\"_parent\"><img src=\"https://colab.research.google.com/assets/colab-badge.svg\" alt=\"Open In Colab\"/></a>"
      ]
    },
    {
      "cell_type": "code",
      "execution_count": 30,
      "metadata": {
        "id": "HbJ4h6QPx5Zb",
        "colab": {
          "base_uri": "https://localhost:8080/"
        },
        "outputId": "6569b1cb-dc81-4482-b055-04f35e63856e"
      },
      "outputs": [
        {
          "output_type": "stream",
          "name": "stdout",
          "text": [
            "Drive already mounted at /content/drive; to attempt to forcibly remount, call drive.mount(\"/content/drive\", force_remount=True).\n",
            "📂 الملف موجود مسبقًا ولن يتم إعادة التحميل.\n",
            "✅ الملفات مفكوكة مسبقًا.\n",
            "أول 5 صفوف من البيانات:\n",
            "              Datetime   AEP_MW\n",
            "0  2004-12-31 01:00:00  13478.0\n",
            "1  2004-12-31 02:00:00  12865.0\n",
            "2  2004-12-31 03:00:00  12577.0\n",
            "3  2004-12-31 04:00:00  12517.0\n",
            "4  2004-12-31 05:00:00  12670.0\n",
            "Datetime    0\n",
            "AEP_MW      0\n",
            "dtype: int64\n",
            "                      AEP_MW\n",
            "Datetime                    \n",
            "2014-11-02 02:00:00  12994.0\n",
            "2014-11-02 02:00:00  13190.0\n",
            "2015-11-01 02:00:00  10785.0\n",
            "2015-11-01 02:00:00  10542.0\n",
            "2016-11-06 02:00:00  10964.0\n",
            "2016-11-06 02:00:00  11008.0\n",
            "2017-11-05 02:00:00  10596.0\n",
            "2017-11-05 02:00:00  10446.0\n",
            "The duplicated: 0\n"
          ]
        }
      ],
      "source": [
        "# استيراد المكتبات الأساسية\n",
        "import pandas as pd\n",
        "import numpy as np\n",
        "import matplotlib.pyplot as plt\n",
        "import seaborn as sns\n",
        "from scipy.stats import ttest_ind\n",
        "import os\n",
        "from google.colab import drive\n",
        "\n",
        "# 1. توصيل Google Drive\n",
        "drive.mount('/content/drive')\n",
        "\n",
        "# 2. إعداد مجلد kaggle\n",
        "os.makedirs(\"/root/.kaggle\", exist_ok=True)\n",
        "\n",
        "# 3. نسخ ملف kaggle.json من Google Drive إلى مجلد kaggle\n",
        "# غيّر المسار إذا ملف kaggle.json موجود بمكان آخر\n",
        "!cp /content/drive/MyDrive/kaggle.json /root/.kaggle/\n",
        "\n",
        "# 4. ضبط الأذونات\n",
        "!chmod 600 /root/.kaggle/kaggle.json\n",
        "\n",
        "# 5. إنشاء مجلد data إذا غير موجود\n",
        "os.makedirs(\"data\", exist_ok=True)\n",
        "\n",
        "# 6. تحميل البيانات من Kaggle إذا غير موجودة\n",
        "if not os.path.exists(\"data/hourly-energy-consumption.zip\"):\n",
        "    !kaggle datasets download -d robikscube/hourly-energy-consumption -p data -q\n",
        "else:\n",
        "    print(\"📂 الملف موجود مسبقًا ولن يتم إعادة التحميل.\")\n",
        "\n",
        "# 7. فك الضغط (بدون رسائل)\n",
        "if not os.path.exists(\"data/AEP_hourly.csv\"):  # نتأكد إذا تفك الضغط سابقًا\n",
        "    !unzip -q data/hourly-energy-consumption.zip -d data\n",
        "else:\n",
        "    print(\"✅ الملفات مفكوكة مسبقًا.\")\n",
        "\n",
        "# 8. قراءة ملف CSV مثال\n",
        "df = pd.read_csv(\"data/AEP_hourly.csv\")\n",
        "print(\"أول 5 صفوف من البيانات:\")\n",
        "print(df.head())\n",
        "\n",
        "\n",
        "# FIRST STEP ### Exlore the missing values\n",
        "\n",
        "print(df.isna().sum())\n",
        "\n",
        "# step 2 #### turn the column to datetimeindex\n",
        "df['Datetime']= pd.to_datetime(df['Datetime'])\n",
        "df.sort_values('Datetime')\n",
        "df.set_index('Datetime', inplace= True)\n",
        "df.resample('h').mean()\n",
        "\n",
        "#Step 3 ### Explore the duplicated values\n",
        "duplicated= df[df.index.duplicated(keep=False )]\n",
        "\n",
        "print(duplicated)\n",
        "\n",
        "df=df[~df.index.duplicated(keep='first')]\n",
        "print('The duplicated:',df.index.duplicated().sum())"
      ]
    }
  ],
  "metadata": {
    "colab": {
      "provenance": [],
      "authorship_tag": "ABX9TyMtaqNWy4ku/seFrbcPuM3P",
      "include_colab_link": true
    },
    "kernelspec": {
      "display_name": "Python 3",
      "name": "python3"
    },
    "language_info": {
      "name": "python"
    }
  },
  "nbformat": 4,
  "nbformat_minor": 0
}